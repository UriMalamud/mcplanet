{
 "cells": [
  {
   "cell_type": "markdown",
   "metadata": {},
   "source": [
    "# Intro\n",
    "\n",
    "This is an ipython notebook that is runnable from the cloud.   Each cell in the notbook can be run seperately by clicking on it and hitting ctrl+enter.   Once a cell is run, all the global variables are saved, so you can run other cells using variable you've already initialized.\n",
    "\n",
    "First thing you should do is run all the cell by either hitting ctrl+enter for each cell or by choosing **Kernel** and **Restart and run all** from the menu above."
   ]
  },
  {
   "cell_type": "code",
   "execution_count": 1,
   "metadata": {
    "execution": {
     "iopub.execute_input": "2021-07-04T05:12:00.514932Z",
     "iopub.status.busy": "2021-07-04T05:12:00.514703Z",
     "iopub.status.idle": "2021-07-04T05:12:00.864544Z",
     "shell.execute_reply": "2021-07-04T05:12:00.863791Z",
     "shell.execute_reply.started": "2021-07-04T05:12:00.514871Z"
    }
   },
   "outputs": [],
   "source": [
    "import numpy             as np\n",
    "import matplotlib.pyplot as plt\n",
    "from matplotlib.pyplot   import legend, figure\n",
    "\n",
    "import lib.constants     as constants\n",
    "import lib.mc_density    as mc_density\n",
    "import lib.mc_interior   as mc_interior\n",
    "import lib.temperature   as temperature"
   ]
  },
  {
   "cell_type": "markdown",
   "metadata": {},
   "source": [
    "# Basics:  \n",
    "\n",
    "There are two key classes in this library.   \n",
    "\n",
    "## MCDensity\n",
    "This is a model of a planet that contains a series of shells, each with a fixed density.\n",
    "The (outer) radius and the density of each shell may be specified.   For ease and convenience \n",
    "we also provide functions to automatically generate a planet model with a specified number of \n",
    "shells and monotonically increasing (as you head to the center) density.  Note that all values\n",
    "are in CGS units unless otherwise specified.\n",
    "                 \n",
    "Given such a model, the following functions are available:\n",
    "                 \n",
    "- **get_mass()**     : Returns the total mass of the planet.\n",
    "\n",
    "- **get_moment()**   : Returns the total moment of inertia of the planet.\n",
    "\n",
    "- **get_mass_moment_ratio()** : Returns the mass/moment ratio.\n",
    "\n",
    "- **get_radii()**    : Returns an array of the outer radii of each shell.\n",
    "\n",
    "- **get_densities()** : Returns an array of the densities of each shell.\n",
    "\n",
    "- **get_pressure()** : Returns an array of the pressure of each shell.\n",
    "\n",
    "- **plot_densities()** : Plots the values of get_densities().\n",
    "\n",
    "- **plot_pressure()** : Plots the values of get_pressure().\n",
    "\n",
    "### MCDensityFactory\n",
    "A Factory is a simple Pattern for constructing objects with a lot of variables.  In our case,\n",
    "the MCDensityFactory gets a mass, a moment_ratio, and an outer radius, and it automatically constructs\n",
    "an MCDensity object.   Optional parameters include the number of shells and the \"smoothness\" of the curve.\n",
    "\n"
   ]
  },
  {
   "cell_type": "code",
   "execution_count": 2,
   "metadata": {
    "execution": {
     "iopub.execute_input": "2021-07-04T05:12:00.866042Z",
     "iopub.status.busy": "2021-07-04T05:12:00.865724Z",
     "iopub.status.idle": "2021-07-04T05:12:00.890434Z",
     "shell.execute_reply": "2021-07-04T05:12:00.889859Z",
     "shell.execute_reply.started": "2021-07-04T05:12:00.866019Z"
    }
   },
   "outputs": [],
   "source": [
    "# Set for Uranus\n",
    "mass = constants.URANUS.mass\n",
    "moment_ratio = constants.URANUS.moment_ratio\n",
    "radius = constants.URANUS.radius\n",
    "num_shells = 100"
   ]
  },
  {
   "cell_type": "code",
   "execution_count": 3,
   "metadata": {
    "execution": {
     "iopub.execute_input": "2021-07-04T05:12:00.891620Z",
     "iopub.status.busy": "2021-07-04T05:12:00.891314Z",
     "iopub.status.idle": "2021-07-04T05:12:01.439702Z",
     "shell.execute_reply": "2021-07-04T05:12:01.439035Z",
     "shell.execute_reply.started": "2021-07-04T05:12:00.891599Z"
    }
   },
   "outputs": [],
   "source": [
    "d_model = mc_density.create_mcdensity(mass, moment_ratio, radius)"
   ]
  },
  {
   "cell_type": "code",
   "execution_count": 4,
   "metadata": {
    "execution": {
     "iopub.execute_input": "2021-07-04T05:12:01.440992Z",
     "iopub.status.busy": "2021-07-04T05:12:01.440642Z",
     "iopub.status.idle": "2021-07-04T05:12:01.474280Z",
     "shell.execute_reply": "2021-07-04T05:12:01.473630Z",
     "shell.execute_reply.started": "2021-07-04T05:12:01.440968Z"
    }
   },
   "outputs": [
    {
     "name": "stdout",
     "output_type": "stream",
     "text": [
      "mass is 8.7e+28:\n",
      "mass/moment ratio is 0.22999999999999993\n"
     ]
    }
   ],
   "source": [
    "print(\"mass is %s:\"%d_model.get_mass())\n",
    "print(\"mass/moment ratio is %s\"%d_model.get_mass_moment_ratio())"
   ]
  },
  {
   "cell_type": "markdown",
   "metadata": {},
   "source": [
    "# Plots"
   ]
  },
  {
   "cell_type": "code",
   "execution_count": 5,
   "metadata": {
    "execution": {
     "iopub.execute_input": "2021-07-04T05:12:01.475518Z",
     "iopub.status.busy": "2021-07-04T05:12:01.475051Z",
     "iopub.status.idle": "2021-07-04T05:12:01.709018Z",
     "shell.execute_reply": "2021-07-04T05:12:01.708337Z",
     "shell.execute_reply.started": "2021-07-04T05:12:01.475497Z"
    }
   },
   "outputs": [
    {
     "data": {
      "image/png": "[encoded data removed]",
      "text/plain": [
       "<Figure size 432x288 with 1 Axes>"
      ]
     },
     "metadata": {
      "needs_background": "light"
     },
     "output_type": "display_data"
    },
    {
     "data": {
      "image/png": "[encoded data removed]",
      "text/plain": [
       "<Figure size 432x288 with 1 Axes>"
      ]
     },
     "metadata": {
      "needs_background": "light"
     },
     "output_type": "display_data"
    }
   ],
   "source": [
    "d_model.plot_pressure()\n",
    "legend()\n",
    "figure()\n",
    "d_model.plot_densities()"
   ]
  },
  {
   "cell_type": "markdown",
   "metadata": {},
   "source": [
    "\n",
    "## MCInterior\n",
    "This class is an extended version of MCDensity.\n",
    "\n",
    "In addition to density, it also contains a \"composition\" for each shell.\n",
    "Currently, a composition is defined by three numbers (r,w,e) corresponding to\n",
    "the fraction of \"**rock**\", \"**water**\", and \"**env**\" in each shell.   Note that this is \n",
    "somewhat of a legacy definition, as \"rock\" can means SiO2, dunite, or even \"Z\", \n",
    "a combination of dunite and water.\n",
    "\n",
    "Regardless of what (r,w,e) mean, these values have a 1-1 mapping to a single \"composition\" \n",
    "value.   We require this scalar value to be monotonically increasing toward the center of the\n",
    "model.\n",
    "\n",
    "Once we have a composition for each shell, the following functions are available:\n",
    "                 \n",
    "Given such a model, the following functions are available:\n",
    "                 \n",
    "- **get_rock_pct()**     : Returns an array with the percent of \"rock\" in each shell.\n",
    "\n",
    "- **get_env_pct()**   : Returns an array with the percent of \"env\" in each shell.\n",
    "\n",
    "- **compute_env_mass()** : Returns the total mass of \"env\" in the model.\n",
    "\n",
    "- **compute_water_mass()**    : Returns the total mass of \"water\" in the model.\n",
    "\n",
    "- **compute_rock_mass()** : Returns the total mass of \"rock\" in the model.\n",
    "\n",
    "- **compute_ratios()** : Returns \"rock\"/\"water\"/\"env\" ratios in the model.\n",
    "\n",
    "- **plot_env()** : Plots get_env_pct().\n",
    "\n",
    "- **plot_water()** : Plots get_water_pct.\n",
    "\n",
    "- **plot_rock()** : Plots get_rock_pct().\n",
    "\n",
    "The main property we are able to compute with the addition of composition is the temperature\n",
    "in the model.   In order to do so, we need to build/load temperature tables for each of the \n",
    "materials in the composition of the planet and combine them to form a temperature **Catalog**.\n",
    "For convenience, this library already includes three such catalogs:\n",
    "\n",
    "- **dunite_water_env_catalog()**\n",
    "- **sio2_water_env_catalog()**\n",
    "- **z_env_catalog()**  -- note that this catalog only has two materials.\n",
    "\n",
    "For each of these:\n",
    "\n",
    "- \"env\" is a mix of 75% Hydrogen, 25% Helium.\n",
    "- \"dunite\" is a mix of 24% Iron, 76% SiO2.\n",
    "- \"Z\" is a mix of 65% Dunite, 35% Water.\n",
    "\n",
    "\n",
    "### MCInteriorFactory\n",
    "Once again, the Factory allows us to create a random model with fewer parameters.\n",
    "Note that there is no guarantee with this method that the temperature will be monotonic,\n",
    "only that the composition is.   In order to get a monotonic temperature, we need to be \n",
    "more carerful."
   ]
  },
  {
   "cell_type": "code",
   "execution_count": 6,
   "metadata": {
    "execution": {
     "iopub.execute_input": "2021-07-04T05:12:01.710747Z",
     "iopub.status.busy": "2021-07-04T05:12:01.710483Z",
     "iopub.status.idle": "2021-07-04T05:12:01.718079Z",
     "shell.execute_reply": "2021-07-04T05:12:01.717648Z",
     "shell.execute_reply.started": "2021-07-04T05:12:01.710726Z"
    }
   },
   "outputs": [],
   "source": [
    "# Note, this code temperarily offline.  \n",
    "# Need to acoomodate arbitrarily sized mixes in factory\n",
    "\n",
    "\n",
    "# pct_rock, pct_water, pct_env  = 0.6, 0.3, 0.1\n",
    "# catalog = temperature.sio2_water_env_catalog()\n",
    "# i_model = mc_interior.create_mcinterior(mass, moment_ratio, radius, pct_rock, pct_env, catalog)\n"
   ]
  },
  {
   "cell_type": "code",
   "execution_count": 7,
   "metadata": {
    "execution": {
     "iopub.execute_input": "2021-07-04T05:12:01.719088Z",
     "iopub.status.busy": "2021-07-04T05:12:01.718784Z",
     "iopub.status.idle": "2021-07-04T05:12:01.724240Z",
     "shell.execute_reply": "2021-07-04T05:12:01.723804Z",
     "shell.execute_reply.started": "2021-07-04T05:12:01.719069Z"
    }
   },
   "outputs": [],
   "source": [
    "# r,w,e = i_model.compute_ratios()\n",
    "# print(\"The rock/water/env ratios are: (%s,%s,%s)\"%(r,w,e))"
   ]
  },
  {
   "cell_type": "code",
   "execution_count": 8,
   "metadata": {
    "execution": {
     "iopub.execute_input": "2021-07-04T05:12:01.725029Z",
     "iopub.status.busy": "2021-07-04T05:12:01.724840Z",
     "iopub.status.idle": "2021-07-04T05:12:01.731219Z",
     "shell.execute_reply": "2021-07-04T05:12:01.730760Z",
     "shell.execute_reply.started": "2021-07-04T05:12:01.725011Z"
    }
   },
   "outputs": [],
   "source": [
    "# i_model.plot_env()\n",
    "# i_model.plot_water()\n",
    "# i_model.plot_rock()\n",
    "# legend()"
   ]
  },
  {
   "cell_type": "code",
   "execution_count": 9,
   "metadata": {
    "execution": {
     "iopub.execute_input": "2021-07-04T05:12:01.732099Z",
     "iopub.status.busy": "2021-07-04T05:12:01.731853Z",
     "iopub.status.idle": "2021-07-04T05:12:01.737697Z",
     "shell.execute_reply": "2021-07-04T05:12:01.737272Z",
     "shell.execute_reply.started": "2021-07-04T05:12:01.732080Z"
    }
   },
   "outputs": [],
   "source": [
    "# NOTE:\n",
    "\n",
    "# When creating the composition model, we didn't initially require that \"rock\" and \"env\" not overlap.   \n",
    "# Nowadays we do have a sanity check for this and throw an error when this happens.   If you get it here,\n",
    "# Just create a new model by running cell #6 again (or restarting the kernel).  This happens about\n",
    "# 50% of the time that I can tell, so might need to refresh more than once.\n",
    "\n",
    "# TODO:  \n",
    "# Make this a bit more robust.\n",
    "\n",
    "# i_model.plot_temp()\n",
    "# legend()"
   ]
  },
  {
   "cell_type": "code",
   "execution_count": null,
   "metadata": {},
   "outputs": [],
   "source": []
  },
  {
   "cell_type": "code",
   "execution_count": null,
   "metadata": {},
   "outputs": [],
   "source": []
  }
 ],
 "metadata": {
  "kernelspec": {
   "display_name": "Python 3",
   "language": "python",
   "name": "python3"
  },
  "language_info": {
   "codemirror_mode": {
    "name": "ipython",
    "version": 3
   },
   "file_extension": ".py",
   "mimetype": "text/x-python",
   "name": "python",
   "nbconvert_exporter": "python",
   "pygments_lexer": "ipython3",
   "version": "3.7.4"
  }
 },
 "nbformat": 4,
 "nbformat_minor": 4
}
