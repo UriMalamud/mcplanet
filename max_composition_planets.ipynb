{
 "cells": [
  {
   "cell_type": "code",
   "execution_count": 1,
   "metadata": {
    "execution": {
     "iopub.execute_input": "2021-06-28T21:40:21.588467Z",
     "iopub.status.busy": "2021-06-28T21:40:21.588223Z",
     "iopub.status.idle": "2021-06-28T21:40:21.641542Z",
     "shell.execute_reply": "2021-06-28T21:40:21.641129Z",
     "shell.execute_reply.started": "2021-06-28T21:40:21.588419Z"
    },
    "tags": [
     "pyflyby-cell"
    ]
   },
   "outputs": [],
   "source": [
    "# This notebook is for creating random monotonic models of Uranus.\n",
    "# The only constraints on the model are the that innermost shell has a temperature less than 50K\n",
    "# and that the temperature/density/composition/pressure are monotonically decreasing as the radius increases."
   ]
  },
  {
   "cell_type": "code",
   "execution_count": 2,
   "metadata": {
    "execution": {
     "iopub.execute_input": "2021-06-28T21:40:21.642553Z",
     "iopub.status.busy": "2021-06-28T21:40:21.642330Z",
     "iopub.status.idle": "2021-06-28T21:40:21.961769Z",
     "shell.execute_reply": "2021-06-28T21:40:21.961282Z",
     "shell.execute_reply.started": "2021-06-28T21:40:21.642535Z"
    }
   },
   "outputs": [],
   "source": [
    "import random\n",
    "import numpy           as np\n",
    "from matplotlib        import pyplot as plt\n",
    "from matplotlib.pyplot import figure, legend\n",
    "\n",
    "import lib.constants   as constants\n",
    "import lib.profile     as profile\n",
    "import lib.temperature as temperature"
   ]
  },
  {
   "cell_type": "code",
   "execution_count": 3,
   "metadata": {
    "execution": {
     "iopub.execute_input": "2021-06-28T21:40:21.962729Z",
     "iopub.status.busy": "2021-06-28T21:40:21.962484Z",
     "iopub.status.idle": "2021-06-28T21:40:22.021026Z",
     "shell.execute_reply": "2021-06-28T21:40:22.020407Z",
     "shell.execute_reply.started": "2021-06-28T21:40:21.962711Z"
    }
   },
   "outputs": [],
   "source": [
    "# Set for Uranus\n",
    "mass = constants.URANUS.mass\n",
    "moment_ratio = constants.URANUS.moment_ratio\n",
    "radius = constants.URANUS.radius\n",
    "num_shells = 100\n",
    "catalog = temperature.sio2_water_env_catalog()"
   ]
  },
  {
   "cell_type": "code",
   "execution_count": 4,
   "metadata": {
    "execution": {
     "iopub.execute_input": "2021-06-28T21:40:22.022453Z",
     "iopub.status.busy": "2021-06-28T21:40:22.021915Z",
     "iopub.status.idle": "2021-06-28T21:40:23.416964Z",
     "shell.execute_reply": "2021-06-28T21:40:23.416036Z",
     "shell.execute_reply.started": "2021-06-28T21:40:22.022421Z"
    }
   },
   "outputs": [],
   "source": [
    "# Create a bunch of random models.\n",
    "# Note:  Running this cell will take a while (each model takes ~3 seconds),\n",
    "# So generating 1000 should take about an hour.\n",
    "\n",
    "INVERSE=False\n",
    "max_temp = 0 if INVERSE else 50000\n",
    "\n",
    "good_models = []\n",
    "for i in range(100):\n",
    "    seed, vals, count = profile.get_fixed_temp_model(mass, moment_ratio, radius, num_shells,\n",
    "                                                     max_temp, catalog,inverse=INVERSE)\n",
    "    if vals is not None:\n",
    "        good_models.append((seed, vals, count))\n",
    "        "
   ]
  },
  {
   "cell_type": "code",
   "execution_count": 5,
   "metadata": {
    "execution": {
     "iopub.execute_input": "2021-06-28T21:40:23.419490Z",
     "iopub.status.busy": "2021-06-28T21:40:23.419073Z",
     "iopub.status.idle": "2021-06-28T21:40:23.454755Z",
     "shell.execute_reply": "2021-06-28T21:40:23.454311Z",
     "shell.execute_reply.started": "2021-06-28T21:40:23.419464Z"
    }
   },
   "outputs": [
    {
     "data": {
      "text/plain": [
       "[]"
      ]
     },
     "execution_count": 5,
     "metadata": {},
     "output_type": "execute_result"
    }
   ],
   "source": [
    "# This cell is a list of the \"valid models\".\n",
    "# The values you get are:\n",
    "#\n",
    "# idx, (seed, (r, w, e), count)\n",
    "#\n",
    "# Where:\n",
    "# idx     -- The number of the model\n",
    "# seed    -- The seed of model.   Save this to recreate a model below.\n",
    "# (r,w,e) -- The rock/water/env ratio of the model.   Note that\n",
    "#            these values only have meaning when we use a three-element\n",
    "#            composition.\n",
    "# count   -- The number of points during the model generation that were\n",
    "#            set to Null.   We later \"plaster ower\" these points, but they\n",
    "#            can potentially be points where the model is not monotonic\n",
    "#            in one of its measures.\n",
    "\n",
    "[x for x in enumerate(good_models)]"
   ]
  },
  {
   "cell_type": "code",
   "execution_count": 6,
   "metadata": {
    "execution": {
     "iopub.execute_input": "2021-06-28T21:40:23.455934Z",
     "iopub.status.busy": "2021-06-28T21:40:23.455533Z",
     "iopub.status.idle": "2021-06-28T21:40:23.465297Z",
     "shell.execute_reply": "2021-06-28T21:40:23.464861Z",
     "shell.execute_reply.started": "2021-06-28T21:40:23.455915Z"
    }
   },
   "outputs": [],
   "source": [
    "# You can go into more depth on specific models by reusing the seed of the model.\n",
    "# As long as the max_temp/catalog/etc. is the same, this should recreate the model.\n",
    "\n",
    "def full_model(seed, catalog=catalog, smooth=101, max_temp=max_temp, inverse=False):\n",
    "    s, m, c = profile.get_fixed_temp_model(mass, moment_ratio, radius, num_shells, \n",
    "                                           max_temp=max_temp, temperature_catalog=catalog, smooth=smooth,\n",
    "                                           seed=seed, full_model=True, inverse=inverse)\n",
    "\n",
    "    # Plot density\n",
    "    m.plot_densities()\n",
    "    legend()\n",
    "    figure()\n",
    "    \n",
    "    # Plot pressure\n",
    "    m.plot_pressure()\n",
    "    legend()\n",
    "    figure()\n",
    "    \n",
    "    # Plot temperature\n",
    "    m.plot_temp(catalog)\n",
    "    legend()\n",
    "    figure()\n",
    "    \n",
    "    # Plot composition\n",
    "    m.plot_rock()\n",
    "    m.plot_env()\n",
    "    legend()\n",
    "    figure()\n",
    "\n",
    "    # plot temp profiles\n",
    "    m_profile = profile.TemperatureProfile(catalog, m)\n",
    "    m_profile.plot_temperature_profiles()\n",
    "    legend()\n",
    "    figure()\n",
    "    print(m.compute_ratios())\n"
   ]
  },
  {
   "cell_type": "code",
   "execution_count": 8,
   "metadata": {
    "execution": {
     "iopub.execute_input": "2021-06-28T21:40:42.516820Z",
     "iopub.status.busy": "2021-06-28T21:40:42.516491Z",
     "iopub.status.idle": "2021-06-28T21:40:42.523474Z",
     "shell.execute_reply": "2021-06-28T21:40:42.522921Z",
     "shell.execute_reply.started": "2021-06-28T21:40:42.516800Z"
    }
   },
   "outputs": [],
   "source": [
    "full_model(0.271436981, catalog=catalog, smooth=101, inverse=INVERSE, max_temp =max_temp)"
   ]
  },
  {
   "cell_type": "code",
   "execution_count": null,
   "metadata": {},
   "outputs": [],
   "source": []
  }
 ],
 "metadata": {
  "kernelspec": {
   "display_name": "Python 3",
   "language": "python",
   "name": "python3"
  },
  "language_info": {
   "codemirror_mode": {
    "name": "ipython",
    "version": 3
   },
   "file_extension": ".py",
   "mimetype": "text/x-python",
   "name": "python",
   "nbconvert_exporter": "python",
   "pygments_lexer": "ipython3",
   "version": "3.7.4"
  }
 },
 "nbformat": 4,
 "nbformat_minor": 4
}
