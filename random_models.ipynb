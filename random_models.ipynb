{
 "cells": [
  {
   "cell_type": "markdown",
   "metadata": {},
   "source": [
    "### Intro\n",
    "\n",
    "This is an ipython notebook that is runnable from the cloud.   Each cell in the notbook can be run seperately by clicking on it and hitting ctrl+enter.   Once a cell is run, all the global variables are saved, so you can run other cells using variable you've already initialized.\n",
    "\n",
    "First thing you should do is run all the cell by either hitting ctrl+enter for each cell or by choosing **Kernel** and **Restart and run all** from the menu above."
   ]
  },
  {
   "cell_type": "code",
   "execution_count": 1,
   "metadata": {},
   "outputs": [],
   "source": [
    "import numpy as np\n",
    "import random\n",
    "import matplotlib.pyplot as plt"
   ]
  },
  {
   "cell_type": "markdown",
   "metadata": {},
   "source": [
    "### Random model code\n",
    "\n",
    "This section contains functions to generate random monotic models."
   ]
  },
  {
   "cell_type": "code",
   "execution_count": 2,
   "metadata": {},
   "outputs": [],
   "source": [
    "def monotonic_pairs(max_dist, seed = None):\n",
    "    # This function will generate a list of pairs\n",
    "    # List in form of (x,y), where y is monotonicly decreasing.\n",
    "    # 0<=x<=1.   0<y.   List includes (1,0) and (0,1).\n",
    "    # The function is assumed to be piecewise linear.\n",
    "    # max_dist >= xi-x_(i-1)\n",
    "    if seed is not None:\n",
    "        random.seed(seed)\n",
    "    return random_seq(max_dist, 0,1, 0,1)\n",
    "        \n",
    "\n",
    "def random_point(x_min, x_max, y_min, y_max):\n",
    "    return (random.uniform(x_min, x_max), random.uniform(y_min, y_max))\n",
    "\n",
    "def random_seq(max_dist, x_min, x_max, y_min, y_max):\n",
    "    x_mid, y_mid= random_point(x_min, x_max, y_min, y_max)\n",
    "    if x_max-x_min < max_dist:\n",
    "        return [(x_mid, y_mid)]\n",
    "    else:\n",
    "        return random_seq(max_dist, x_min, x_mid, y_mid, y_max) + \\\n",
    "                    [(x_mid, y_mid)] + \\\n",
    "                    random_seq(max_dist, x_mid, x_max, y_min, y_mid)\n",
    "\n",
    "\n",
    "def plot_pairs(pairs):\n",
    "    x,y = zip(*pairs)\n",
    "    plt.plot(x,y)\n",
    "\n",
    "def get_monotoic_vals(shells):\n",
    "    # This function will generate a random sequence with monotonic pairs,\n",
    "    # then sample it to have exactly the number of points requested.  Linear interpolation.\n",
    "    # @param num:  Number of points.   \n",
    "    #\n",
    "    # Note that the last point will always be (1,0)\n",
    "    \n",
    "    # Make sure we have enough points.  \n",
    "\n",
    "    # TODO:   This is a hack\n",
    "    # Can do better to make sure each point is separate.   Not sure it makes a difference.\n",
    "    num = len(shells)\n",
    "    pairs = monotonic_pairs(0.5/num)\n",
    "    \n",
    "    x,y = zip(*pairs)\n",
    "    return np.interp(shells,x,y)\n",
    "\n",
    "def plot_model(model):\n",
    "    plt.plot(model[0], model[1])"
   ]
  },
  {
   "cell_type": "code",
   "execution_count": 3,
   "metadata": {},
   "outputs": [],
   "source": [
    "# Uncomment below lines to see examples:\n",
    "\n",
    "#for _ in range(10):\n",
    "#    plot_pairs(monotonic_pairs(0.01))\n",
    "#    plt.figure()"
   ]
  },
  {
   "cell_type": "markdown",
   "metadata": {},
   "source": [
    "### Normalization code\n",
    "\n",
    "These two functions compute the amount of mass/moment per shell.   Right now, we only support a fixed density.\n",
    "\n",
    "$ mass = 4\\pi\\rho\\int_{r_1}^{r_2}r^2dr = \\dfrac{2\\pi}{3}\\Big[r_2^3-r_1^3\\Big]\\rho$\n",
    "\n",
    "$ moment = \\dfrac{2}{3}MR^2 = \\dfrac{8\\pi}{3}\\rho\\int_{r_1}^{r_2}r^4dr = \\dfrac{8\\pi}{15}\\Big[r_2^5-r_1^5\\Big]\\rho$+\n",
    "\n",
    "Thus, given a series of fixed shells with radius $r_i$, there is a series of fixed coefficients $M_i$ and $I_i$ such that:\n",
    "\n",
    "$ mass = \\vec{M}\\vec{\\rho} $\n",
    "\n",
    "$ moment =  \\vec{I}\\vec{\\rho} $\n",
    "\n",
    "\n",
    "**Note:** I believe the fixed coefficients also hold with linear density (though the general equations to compute the mass/moment might be a bit more involved).\n",
    "\n",
    "The advantage of this method is that if we have two solutions $\\vec{\\rho_1}$ and $\\vec{\\rho_2}$, any linear combination of the two solution will also have the same mass/moment.   This allows us to fix yet another variable (e.g. J2) with binary search."
   ]
  },
  {
   "cell_type": "code",
   "execution_count": 4,
   "metadata": {},
   "outputs": [],
   "source": [
    "def get_mass_coefficient(rad1, rad2, fixed_density=True):\n",
    "    if not fixed_density:\n",
    "        raise NotImplemented(\"Linear density not implmeneted yet.\")\n",
    "    return 4.0/3.0 * np.pi * (np.power(rad2,3.0) - np.power(rad1, 3.0))\n",
    "        \n",
    "        \n",
    "def get_moment_coefficient(rad1, rad2, fixed_density=True):\n",
    "    if not fixed_density:\n",
    "        raise NotImplemented(\"Linear density not implemented yet.\")\n",
    "    return 8.0/15.0 * np.pi * (np.power(rad2,5.0) - np.power(rad1, 5.0))\n",
    "\n",
    "\n",
    "def compute_mass(model, fixed_density=True):\n",
    "    # @param model: This is two arrays, first with outer radii, second with densities\n",
    "    radii, densities = model\n",
    "    outer = radii\n",
    "    inner= np.append([0], radii)\n",
    "    ranges = zip(inner, outer)\n",
    "        \n",
    "    coefficients = [get_mass_coefficient(rad1, rad2, fixed_density) \n",
    "                    for (rad1, rad2) in ranges]\n",
    "        \n",
    "    return np.array(coefficients).dot(densities)\n",
    "\n",
    "def compute_moment(model, fixed_density=True):\n",
    "    # @param model: This is two arrays, first with outer radii, second with densities\n",
    "    radii, densities = model\n",
    "    outer = radii\n",
    "    inner= np.append([0], radii)\n",
    "    ranges = zip(inner, outer)\n",
    "        \n",
    "    coefficients = [get_moment_coefficient(rad1, rad2, fixed_density) \n",
    "                    for (rad1, rad2) in ranges]\n",
    "        \n",
    "    return np.array(coefficients).dot(densities)"
   ]
  },
  {
   "cell_type": "code",
   "execution_count": 5,
   "metadata": {},
   "outputs": [],
   "source": [
    "class MCPlanet(object):\n",
    "    def __init__(self, mass, moment, radius, shells=None, num_shells = 100, fixed_density=True):\n",
    "        # TODO:   Need to think about/ document units.\n",
    "        self._mass = mass\n",
    "        self._moment = moment\n",
    "        self._use_fixed = fixed_density\n",
    "        self._radius = radius\n",
    "    \n",
    "        # Can pass in units as increasing list of radii.\n",
    "        # Shells are the outer radius of the shells.   Assume shell are touching.\n",
    "        # num_shells ignored in this case.\n",
    "        if shells is None:\n",
    "            self._shells = self._create_radii(num_shells)\n",
    "        else:\n",
    "            self._shells = np.array(shells)\n",
    "            \n",
    "        self._num_shells = len(self._shells)\n",
    "    \n",
    "    def _create_radii(self, num_shells):\n",
    "        # For now, just equal radii for each shell.\n",
    "        return (np.array(range(num_shells))+1)/float(num_shells)*self._radius\n",
    "       \n",
    "    def _normalize_mass(self, model_points):\n",
    "        # Assume that our current model is (x,y)\n",
    "        # Where x is the outer radius (first is zero)\n",
    "        # And y is the density.   \n",
    "        #\n",
    "        # We need to normalize so we match the total mass\n",
    "        outer = self._shells\n",
    "        inner= np.append([0], self._shells)\n",
    "        ranges = zip(inner, outer)\n",
    "        \n",
    "        coefficients = [get_mass_coefficient(rad1, rad2, self._use_fixed) \n",
    "                        for (rad1, rad2) in ranges]\n",
    "        \n",
    "        mass = np.array(coefficients).dot(model_points)\n",
    "        return model_points*self._mass/mass\n",
    "    \n",
    "    def _normalize_moment(self, model_points):\n",
    "        # Assume that our current model is (x,y)\n",
    "        # Where x is the outer radius (first is zero)\n",
    "        # And y is the density.   \n",
    "        #\n",
    "        # We need to normalize so we match the total mass\n",
    "        outer = self._shells\n",
    "        inner= np.append([0], self._shells)\n",
    "        ranges = zip(inner, outer)\n",
    "        \n",
    "        coefficients = [get_moment_coefficient(rad1, rad2, self._use_fixed) \n",
    "                        for (rad1, rad2) in ranges]\n",
    "        \n",
    "        moment = np.array(coefficients).dot(model_points)\n",
    "        return model_points*self._moment/moment\n",
    "        \n",
    "        \n",
    "    def create_mass_model(self, seed=None):\n",
    "        # first generate random monotonic-path\n",
    "        model = get_monotoic_vals(self._shells/self._radius)\n",
    "        return self._shells, self._normalize_mass(model)\n",
    "                 \n",
    "        \n",
    "    def create_moment_model(self, seed=None):\n",
    "        # first generate random monotonic-path\n",
    "        model = get_monotoic_vals(self._shells/self._radius)\n",
    "        return self._shells, self._normalize_moment(model)\n",
    "    \n",
    "    \n",
    "    def create_mass_and_moment_model(self, num_samples = 100, seed=None):\n",
    "        # We're going to create a model that matches both mass and moment.\n",
    "        #\n",
    "        # First, we'll genreate a bunch (100 by default) models and \n",
    "        # normalize them so they have the correct mass.\n",
    "        #\n",
    "        # Next, we'll compute the moment for each one and divide them into \n",
    "        # two groups.    \"bigger_moment\" and \"smaller_moment\".\n",
    "        #\n",
    "        # Next, we'll randomly choose one model from each set and find the \n",
    "        # linear interpolation that will give us a the desired moment.   \n",
    "        # This interpolated model should have both the correct mass and moment.\n",
    "        \n",
    "        models = [self.create_mass_model(seed) for _ in range(num_samples)]\n",
    "        moments = [compute_moment(model, self._use_fixed) for model in models]\n",
    "        \n",
    "        print(\"%s models generated\"%num_samples)\n",
    "        print(\"Largest Moment: %s\", max(moments))\n",
    "        print(\"Smallest Moment: %s\", min(moments))\n",
    "        \n",
    "        bigger_moment = list(filter(lambda x: x[0] >= self._moment, zip(moments, models)))\n",
    "        smaller_moment = list(filter(lambda x: x[0] < self._moment, zip(moments, models)))\n",
    "       \n",
    "        print(\"%s bigger moments and %s smaller moments\"%(len(bigger_moment), len(smaller_moment)))\n",
    "        \n",
    "        bigger = random.choice(bigger_moment)\n",
    "        smaller = random.choice(smaller_moment)\n",
    "        alpha = (self._moment-smaller[0])/(bigger[0]-smaller[0])\n",
    "        \n",
    "        return self._shells, alpha*bigger[1][1] + (1.0-alpha)*smaller[1][1]\n",
    "        "
   ]
  },
  {
   "cell_type": "code",
   "execution_count": 6,
   "metadata": {},
   "outputs": [
    {
     "name": "stdout",
     "output_type": "stream",
     "text": [
      "100 models generated\n",
      "Largest Moment: %s 9.560201280244178e+37\n",
      "Smallest Moment: %s 1.6916775683126652e+37\n",
      "33 bigger moments and 67 smaller moments\n",
      "[  64000.  128000.  192000.  256000.  320000.  384000.  448000.  512000.\n",
      "  576000.  640000.  704000.  768000.  832000.  896000.  960000. 1024000.\n",
      " 1088000. 1152000. 1216000. 1280000. 1344000. 1408000. 1472000. 1536000.\n",
      " 1600000. 1664000. 1728000. 1792000. 1856000. 1920000. 1984000. 2048000.\n",
      " 2112000. 2176000. 2240000. 2304000. 2368000. 2432000. 2496000. 2560000.\n",
      " 2624000. 2688000. 2752000. 2816000. 2880000. 2944000. 3008000. 3072000.\n",
      " 3136000. 3200000. 3264000. 3328000. 3392000. 3456000. 3520000. 3584000.\n",
      " 3648000. 3712000. 3776000. 3840000. 3904000. 3968000. 4032000. 4096000.\n",
      " 4160000. 4224000. 4288000. 4352000. 4416000. 4480000. 4544000. 4608000.\n",
      " 4672000. 4736000. 4800000. 4864000. 4928000. 4992000. 5056000. 5120000.\n",
      " 5184000. 5248000. 5312000. 5376000. 5440000. 5504000. 5568000. 5632000.\n",
      " 5696000. 5760000. 5824000. 5888000. 5952000. 6016000. 6080000. 6144000.\n",
      " 6208000. 6272000. 6336000. 6400000.]\n",
      "[12630.34950788 12546.20130703 12508.66701872 12415.91872661\n",
      " 12325.4696481  12324.08363705 12317.38329347 12316.21594947\n",
      " 12315.88498305 12312.98994551 12306.36126269 12236.44513703\n",
      " 12233.05781646 12223.83301849 12222.49024102 12221.9628948\n",
      " 11700.65000741 11633.5443734  11614.19607207 11598.10657266\n",
      " 11596.98963563 11590.01176699 11387.81774489 11331.7244525\n",
      " 11243.73420755 11192.31134041 11161.30644321 10521.12542469\n",
      " 10515.7749952  10515.45957884 10514.3841338  10506.97283151\n",
      " 10506.599912   10488.4018413  10488.37142387 10478.31915637\n",
      " 10470.65869676 10469.36562741 10464.25374967 10461.61708148\n",
      " 10459.50845006 10458.70892509 10458.63650086 10458.58678825\n",
      " 10454.04554975  9886.32372289  9884.16125837  9880.04200289\n",
      "  9879.37243489  9845.74479818  9824.21711459  9798.88986478\n",
      "  9575.39851015  8558.68656087  8556.97418767  8544.61811014\n",
      "  8489.18697776  8479.72463175  8470.53972989  8351.69717232\n",
      "  8350.36786873  8343.79844282  8311.57792088  8308.7093417\n",
      "  6335.0589231   4795.99387519  4653.51428115  4447.24545806\n",
      "  4434.48347154  4409.88639198  4391.16710921  4369.31595408\n",
      "  4368.20248852  4366.32869698  4366.27143024  4364.84816573\n",
      "  4357.73094353  4350.58619199  4340.10519813  4335.10082103\n",
      "  4333.34315066  4299.0948557   4277.93779183  4260.04693677\n",
      "  4247.91888297  4223.67174233  4210.6369408   4209.43967119\n",
      "  4209.27965937  4208.79510381  4199.78772679  4184.27155068\n",
      "  4139.17279843  4034.34594554  3686.37496403  3425.79027779\n",
      "  3347.95959693  3227.18595181  3204.55393666   923.13865864]\n"
     ]
    },
    {
     "data": {
      "image/png": "[encoded data removed]",
      "text/plain": [
       "<Figure size 432x288 with 1 Axes>"
      ]
     },
     "metadata": {
      "needs_background": "light"
     },
     "output_type": "display_data"
    }
   ],
   "source": [
    "aa= MCPlanet(mass = 6e24, moment= 8e37, radius = 6.4e6, num_shells=100)\n",
    "model = aa.create_mass_and_moment_model()\n",
    "print(model[0])\n",
    "print(model[1])\n",
    "plot_model(model)"
   ]
  },
  {
   "cell_type": "code",
   "execution_count": 7,
   "metadata": {},
   "outputs": [
    {
     "data": {
      "text/plain": [
       "5.999999999999999e+24"
      ]
     },
     "execution_count": 7,
     "metadata": {},
     "output_type": "execute_result"
    }
   ],
   "source": [
    "compute_mass(model)"
   ]
  },
  {
   "cell_type": "code",
   "execution_count": 8,
   "metadata": {},
   "outputs": [
    {
     "data": {
      "text/plain": [
       "8.000000000000001e+37"
      ]
     },
     "execution_count": 8,
     "metadata": {},
     "output_type": "execute_result"
    }
   ],
   "source": [
    "compute_moment(model)"
   ]
  }
 ],
 "metadata": {
  "kernelspec": {
   "display_name": "Python 3",
   "language": "python",
   "name": "python3"
  },
  "language_info": {
   "codemirror_mode": {
    "name": "ipython",
    "version": 3
   },
   "file_extension": ".py",
   "mimetype": "text/x-python",
   "name": "python",
   "nbconvert_exporter": "python",
   "pygments_lexer": "ipython3",
   "version": "3.7.4"
  }
 },
 "nbformat": 4,
 "nbformat_minor": 2
}
