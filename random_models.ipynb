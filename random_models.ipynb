{
 "cells": [
  {
   "cell_type": "markdown",
   "metadata": {},
   "source": [
    "### Intro\n",
    "\n",
    "This is an ipython notebook that is runnable from the cloud.   Each cell in the notbook can be run seperately by clicking on it and hitting ctrl+enter.   Once a cell is run, all the global variables are saved, so you can run other cells using variable you've already initialized.\n",
    "\n",
    "First thing you should do is run all the cell by either hitting ctrl+enter for each cell or by choosing **Kernel** and **Restart and run all** from the menu above."
   ]
  },
  {
   "cell_type": "code",
   "execution_count": 1,
   "metadata": {},
   "outputs": [],
   "source": [
    "import numpy as np\n",
    "import random\n",
    "import matplotlib.pyplot as plt"
   ]
  },
  {
   "cell_type": "markdown",
   "metadata": {},
   "source": [
    "### Random model code\n",
    "\n",
    "This section contains functions to generate random monotic models."
   ]
  },
  {
   "cell_type": "code",
   "execution_count": 2,
   "metadata": {},
   "outputs": [],
   "source": [
    "def monotonic_pairs(max_dist, seed = None):\n",
    "    # This function will generate a list of pairs\n",
    "    # List in form of (x,y), where y is monotonicly decreasing.\n",
    "    # 0<=x<=1.   0<y.   List includes (1,0) and (0,1).\n",
    "    # The function is assumed to be piecewise linear.\n",
    "    # max_dist >= xi-x_(i-1)\n",
    "    if seed is not None:\n",
    "        random.seed(seed)\n",
    "    return random_seq(max_dist, 0,1, 0,1)\n",
    "        \n",
    "\n",
    "def random_point(x_min, x_max, y_min, y_max):\n",
    "    return (random.uniform(x_min, x_max), random.uniform(y_min, y_max))\n",
    "\n",
    "def random_seq(max_dist, x_min, x_max, y_min, y_max):\n",
    "    x_mid, y_mid= random_point(x_min, x_max, y_min, y_max)\n",
    "    if x_max-x_min < max_dist:\n",
    "        return [(x_mid, y_mid)]\n",
    "    else:\n",
    "        return random_seq(max_dist, x_min, x_mid, y_mid, y_max) + \\\n",
    "                    [(x_mid, y_mid)] + \\\n",
    "                    random_seq(max_dist, x_mid, x_max, y_min, y_mid)\n",
    "\n",
    "\n",
    "def plot_pairs(pairs):\n",
    "    x,y = zip(*pairs)\n",
    "    plt.plot(x,y)\n",
    "\n",
    "def get_monotoic_vals(shells):\n",
    "    # This function will generate a random sequence with monotonic pairs,\n",
    "    # then sample it to have exactly the number of points requested.  Linear interpolation.\n",
    "    # @param num:  Number of points.   \n",
    "    #\n",
    "    # Note that the last point will always be (1,0)\n",
    "    \n",
    "    # Make sure we have enough points.  \n",
    "\n",
    "    # TODO:   This is a hack\n",
    "    # Can do better to make sure each point is separate.   Not sure it makes a difference.\n",
    "    num = len(shells)\n",
    "    pairs = monotonic_pairs(0.5/num)\n",
    "    \n",
    "    x,y = zip(*pairs)\n",
    "    return np.interp(shells,x,y)\n",
    "\n",
    "def plot_model(model):\n",
    "    plt.plot(model[0], model[1])"
   ]
  },
  {
   "cell_type": "code",
   "execution_count": 3,
   "metadata": {},
   "outputs": [],
   "source": [
    "# Uncomment below lines to see examples:\n",
    "\n",
    "#for _ in range(10):\n",
    "#    plot_pairs(monotonic_pairs(0.01))\n",
    "#    plt.figure()"
   ]
  },
  {
   "cell_type": "markdown",
   "metadata": {},
   "source": [
    "### Normalization code\n",
    "\n",
    "These two functions compute the amount of mass/moment per shell.   Right now, we only support a fixed density.\n",
    "\n",
    "$ mass = 4\\pi\\rho\\int_{r_1}^{r_2}r^2dr = \\dfrac{4\\pi}{3}\\Big[r_2^3-r_1^3\\Big]\\rho$\n",
    "\n",
    "$ moment = \\dfrac{2}{3}MR^2 = \\dfrac{8\\pi}{3}\\rho\\int_{r_1}^{r_2}r^4dr = \\dfrac{8\\pi}{15}\\Big[r_2^5-r_1^5\\Big]\\rho$\n",
    "\n",
    "Thus, given a series of fixed shells with radius $r_i$, there is a series of fixed coefficients $M_i$ and $I_i$ such that:\n",
    "\n",
    "$ mass = \\vec{M}\\vec{\\rho} $\n",
    "\n",
    "$ moment =  \\vec{I}\\vec{\\rho} $\n",
    "\n",
    "\n",
    "**Note:** I believe the fixed coefficients also hold with linear density (though the general equations to compute the mass/moment might be a bit more involved).\n",
    "\n",
    "The advantage of this method is that if we have two solutions $\\vec{\\rho_1}$ and $\\vec{\\rho_2}$, any linear combination of the two solution will also have the same mass/moment.   This allows us to fix yet another variable (e.g. J2) with binary search."
   ]
  },
  {
   "cell_type": "code",
   "execution_count": 4,
   "metadata": {},
   "outputs": [],
   "source": [
    "def get_mass_coefficient(rad1, rad2, fixed_density=True):\n",
    "    if not fixed_density:\n",
    "        raise NotImplemented(\"Linear density not implmeneted yet.\")\n",
    "    return 4.0/3.0 * np.pi * (np.power(rad2,3.0) - np.power(rad1, 3.0))\n",
    "        \n",
    "        \n",
    "def get_moment_coefficient(rad1, rad2, fixed_density=True):\n",
    "    if not fixed_density:\n",
    "        raise NotImplemented(\"Linear density not implemented yet.\")\n",
    "    return 8.0/15.0 * np.pi * (np.power(rad2,5.0) - np.power(rad1, 5.0))\n",
    "\n",
    "\n",
    "def compute_mass(model, fixed_density=True):\n",
    "    # @param model: This is two arrays, first with outer radii, second with densities\n",
    "    radii, densities = model\n",
    "    outer = radii\n",
    "    inner= np.append([0], radii)\n",
    "    ranges = zip(inner, outer)\n",
    "        \n",
    "    coefficients = [get_mass_coefficient(rad1, rad2, fixed_density) \n",
    "                    for (rad1, rad2) in ranges]\n",
    "        \n",
    "    return np.array(coefficients).dot(densities)\n",
    "\n",
    "def compute_moment(model, fixed_density=True):\n",
    "    # @param model: This is two arrays, first with outer radii, second with densities\n",
    "    radii, densities = model\n",
    "    outer = radii\n",
    "    inner= np.append([0], radii)\n",
    "    ranges = zip(inner, outer)\n",
    "        \n",
    "    coefficients = [get_moment_coefficient(rad1, rad2, fixed_density) \n",
    "                    for (rad1, rad2) in ranges]\n",
    "        \n",
    "    return np.array(coefficients).dot(densities)"
   ]
  },
  {
   "cell_type": "code",
   "execution_count": 5,
   "metadata": {},
   "outputs": [],
   "source": [
    "class MCPlanet(object):\n",
    "    def __init__(self, mass, moment, radius, shells=None, num_shells = 100, fixed_density=True):\n",
    "        # TODO:   Need to think about/ document units.\n",
    "        self._mass = mass\n",
    "        self._moment = moment\n",
    "        self._use_fixed = fixed_density\n",
    "        self._radius = radius\n",
    "    \n",
    "        # Can pass in units as increasing list of radii.\n",
    "        # Shells are the outer radius of the shells.   Assume shell are touching.\n",
    "        # num_shells ignored in this case.\n",
    "        if shells is None:\n",
    "            self._shells = self._create_radii(num_shells)\n",
    "        else:\n",
    "            self._shells = np.array(shells)\n",
    "            \n",
    "        self._num_shells = len(self._shells)\n",
    "    \n",
    "    def _create_radii(self, num_shells):\n",
    "        # For now, just equal radii for each shell.\n",
    "        return (np.array(range(num_shells))+1)/float(num_shells)*self._radius\n",
    "       \n",
    "    def _normalize_mass(self, model_points):\n",
    "        # Assume that our current model is (x,y)\n",
    "        # Where x is the outer radius (first is zero)\n",
    "        # And y is the density.   \n",
    "        #\n",
    "        # We need to normalize so we match the total mass\n",
    "        outer = self._shells\n",
    "        inner= np.append([0], self._shells)\n",
    "        ranges = zip(inner, outer)\n",
    "        \n",
    "        coefficients = [get_mass_coefficient(rad1, rad2, self._use_fixed) \n",
    "                        for (rad1, rad2) in ranges]\n",
    "        \n",
    "        mass = np.array(coefficients).dot(model_points)\n",
    "        return model_points*self._mass/mass\n",
    "    \n",
    "    def _normalize_moment(self, model_points):\n",
    "        # Assume that our current model is (x,y)\n",
    "        # Where x is the outer radius (first is zero)\n",
    "        # And y is the density.   \n",
    "        #\n",
    "        # We need to normalize so we match the total mass\n",
    "        outer = self._shells\n",
    "        inner= np.append([0], self._shells)\n",
    "        ranges = zip(inner, outer)\n",
    "        \n",
    "        coefficients = [get_moment_coefficient(rad1, rad2, self._use_fixed) \n",
    "                        for (rad1, rad2) in ranges]\n",
    "        \n",
    "        moment = np.array(coefficients).dot(model_points)\n",
    "        return model_points*self._moment/moment\n",
    "        \n",
    "        \n",
    "    def create_mass_model(self, seed=None):\n",
    "        # first generate random monotonic-path\n",
    "        model = get_monotoic_vals(self._shells/self._radius)\n",
    "        return self._shells, self._normalize_mass(model)\n",
    "                 \n",
    "        \n",
    "    def create_moment_model(self, seed=None):\n",
    "        # first generate random monotonic-path\n",
    "        model = get_monotoic_vals(self._shells/self._radius)\n",
    "        return self._shells, self._normalize_moment(model)\n",
    "    \n",
    "    \n",
    "    def create_mass_and_moment_model(self, num_samples = 100, seed=None):\n",
    "        # We're going to create a model that matches both mass and moment.\n",
    "        #\n",
    "        # First, we'll genreate a bunch (100 by default) models and \n",
    "        # normalize them so they have the correct mass.\n",
    "        #\n",
    "        # Next, we'll compute the moment for each one and divide them into \n",
    "        # two groups.    \"bigger_moment\" and \"smaller_moment\".\n",
    "        #\n",
    "        # Next, we'll randomly choose one model from each set and find the \n",
    "        # linear interpolation that will give us a the desired moment.   \n",
    "        # This interpolated model should have both the correct mass and moment.\n",
    "        \n",
    "        models = [self.create_mass_model(seed) for _ in range(num_samples)]\n",
    "        moments = [compute_moment(model, self._use_fixed) for model in models]\n",
    "        \n",
    "        print(\"%s models generated\"%num_samples)\n",
    "        print(\"Largest Moment: %s\"%max(moments))\n",
    "        print(\"Smallest Moment: %s\\n\\n\"%min(moments))\n",
    "        \n",
    "        bigger_moment = list(filter(lambda x: x[0] >= self._moment, zip(moments, models)))\n",
    "        smaller_moment = list(filter(lambda x: x[0] < self._moment, zip(moments, models)))\n",
    "       \n",
    "        print(\"Generated %s bigger moments and %s smaller moments\\n\\n\"%(len(bigger_moment), len(smaller_moment)))\n",
    "        \n",
    "        if 0 == len(bigger_moment) or 0 == len(smaller_moment):\n",
    "            print(\"WARNING:: Did not manage to create models with moments bracketing desired result.   Exiting.\")\n",
    "            print(\"Try running again?\\n\\n\")\n",
    "            return self._shells, 0*models[0][1]\n",
    "        \n",
    "        bigger = random.choice(bigger_moment)\n",
    "        smaller = random.choice(smaller_moment)\n",
    "        alpha = (self._moment-smaller[0])/(bigger[0]-smaller[0])\n",
    "        \n",
    "        return self._shells, alpha*bigger[1][1] + (1.0-alpha)*smaller[1][1]\n",
    "        "
   ]
  },
  {
   "cell_type": "code",
   "execution_count": 6,
   "metadata": {},
   "outputs": [
    {
     "name": "stdout",
     "output_type": "stream",
     "text": [
      "100 models generated\n",
      "Largest Moment: 9.62048144222353e+44\n",
      "Smallest Moment: 7.759312195838161e+43\n",
      "\n",
      "\n",
      "Generated 26 bigger moments and 74 smaller moments\n",
      "\n",
      "\n",
      "[6.400e+06 1.280e+07 1.920e+07 2.560e+07 3.200e+07 3.840e+07 4.480e+07\n",
      " 5.120e+07 5.760e+07 6.400e+07 7.040e+07 7.680e+07 8.320e+07 8.960e+07\n",
      " 9.600e+07 1.024e+08 1.088e+08 1.152e+08 1.216e+08 1.280e+08 1.344e+08\n",
      " 1.408e+08 1.472e+08 1.536e+08 1.600e+08 1.664e+08 1.728e+08 1.792e+08\n",
      " 1.856e+08 1.920e+08 1.984e+08 2.048e+08 2.112e+08 2.176e+08 2.240e+08\n",
      " 2.304e+08 2.368e+08 2.432e+08 2.496e+08 2.560e+08 2.624e+08 2.688e+08\n",
      " 2.752e+08 2.816e+08 2.880e+08 2.944e+08 3.008e+08 3.072e+08 3.136e+08\n",
      " 3.200e+08 3.264e+08 3.328e+08 3.392e+08 3.456e+08 3.520e+08 3.584e+08\n",
      " 3.648e+08 3.712e+08 3.776e+08 3.840e+08 3.904e+08 3.968e+08 4.032e+08\n",
      " 4.096e+08 4.160e+08 4.224e+08 4.288e+08 4.352e+08 4.416e+08 4.480e+08\n",
      " 4.544e+08 4.608e+08 4.672e+08 4.736e+08 4.800e+08 4.864e+08 4.928e+08\n",
      " 4.992e+08 5.056e+08 5.120e+08 5.184e+08 5.248e+08 5.312e+08 5.376e+08\n",
      " 5.440e+08 5.504e+08 5.568e+08 5.632e+08 5.696e+08 5.760e+08 5.824e+08\n",
      " 5.888e+08 5.952e+08 6.016e+08 6.080e+08 6.144e+08 6.208e+08 6.272e+08\n",
      " 6.336e+08 6.400e+08]\n",
      "[13.31674999 13.31504139 13.31490114 13.30922303 13.27497259 13.25809372\n",
      " 13.24972487 13.23675293 13.21537713 13.21070348 13.21044441 13.14376145\n",
      " 13.11011555 13.08542295 12.98880641 12.73710315 12.71088825 12.64528668\n",
      " 12.54158094 12.49115721 12.4509816  12.10916345 12.07016911 11.94687144\n",
      " 11.87631805 11.79816093 11.78486411 11.78283177 11.77316594 11.69207714\n",
      " 11.69170539 11.69106735 11.68602386 11.66370603 11.6606     11.65723161\n",
      " 11.3831169  11.33784538 11.05008643 11.04714183 11.03676421 10.96587074\n",
      " 10.96538994 10.96207461 10.44488391 10.4418098  10.43876722 10.4381349\n",
      " 10.43271476  8.92273526  7.72697497  7.38407767  7.36530231  7.20023733\n",
      "  7.10481269  7.02470255  6.8018375   6.78550742  6.76300733  6.74532488\n",
      "  6.64025991  6.45848384  6.45741465  6.45604809  6.43177738  6.41460694\n",
      "  6.40845927  6.16085814  5.84013546  5.80312959  5.686912    5.66662803\n",
      "  5.12598474  5.01285476  4.67596848  4.40302907  4.40022798  4.39877614\n",
      "  4.35509246  4.35507297  4.35503597  4.31718856  4.29098509  4.26216046\n",
      "  4.2439606   4.23094395  4.21056196  4.20728093  4.20708727  4.15628167\n",
      "  4.13784536  4.12494919  4.11210308  4.11160848  4.11117115  4.09496867\n",
      "  3.43482583  3.10706496  1.76299179  1.00628182]\n"
     ]
    },
    {
     "data": {
      "image/png": "[encoded data removed]",
      "text/plain": [
       "<Figure size 432x288 with 1 Axes>"
      ]
     },
     "metadata": {
      "needs_background": "light"
     },
     "output_type": "display_data"
    }
   ],
   "source": [
    "aa= MCPlanet(mass = 6e27, moment= 8e44, radius = 6.4e8, num_shells=100)\n",
    "model = aa.create_mass_and_moment_model()\n",
    "print(model[0])\n",
    "print(model[1])\n",
    "plot_model(model)"
   ]
  },
  {
   "cell_type": "code",
   "execution_count": 7,
   "metadata": {},
   "outputs": [
    {
     "data": {
      "text/plain": [
       "6e+27"
      ]
     },
     "execution_count": 7,
     "metadata": {},
     "output_type": "execute_result"
    }
   ],
   "source": [
    "compute_mass(model)"
   ]
  },
  {
   "cell_type": "code",
   "execution_count": 8,
   "metadata": {},
   "outputs": [
    {
     "data": {
      "text/plain": [
       "8e+44"
      ]
     },
     "execution_count": 8,
     "metadata": {},
     "output_type": "execute_result"
    }
   ],
   "source": [
    "compute_moment(model)"
   ]
  },
  {
   "cell_type": "code",
   "execution_count": null,
   "metadata": {},
   "outputs": [],
   "source": []
  }
 ],
 "metadata": {
  "kernelspec": {
   "display_name": "Python 3",
   "language": "python",
   "name": "python3"
  },
  "language_info": {
   "codemirror_mode": {
    "name": "ipython",
    "version": 3
   },
   "file_extension": ".py",
   "mimetype": "text/x-python",
   "name": "python",
   "nbconvert_exporter": "python",
   "pygments_lexer": "ipython3",
   "version": "3.7.4"
  }
 },
 "nbformat": 4,
 "nbformat_minor": 2
}
