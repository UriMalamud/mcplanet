{
 "cells": [
  {
   "cell_type": "markdown",
   "metadata": {},
   "source": [
    "### Intro\n",
    "\n",
    "This is an ipython notebook that is runnable from the cloud.   Each cell in the notbook can be run seperately by clicking on it and hitting ctrl+enter.   Once a cell is run, all the global variables are saved, so you can run other cells using variable you've already initialized.\n",
    "\n",
    "First thing you should do is run all the cell by either hitting ctrl+enter for each cell or by choosing **Kernel** and **Restart and run all** from the menu above."
   ]
  },
  {
   "cell_type": "code",
   "execution_count": 1,
   "metadata": {},
   "outputs": [],
   "source": [
    "import numpy as np\n",
    "import random\n",
    "import matplotlib.pyplot as plt"
   ]
  },
  {
   "cell_type": "markdown",
   "metadata": {},
   "source": [
    "### Random model code\n",
    "\n",
    "This section contains functions to generate random monotic models."
   ]
  },
  {
   "cell_type": "code",
   "execution_count": 2,
   "metadata": {},
   "outputs": [],
   "source": [
    "def monotonic_pairs(max_dist, seed = None):\n",
    "    # This function will generate a list of pairs\n",
    "    # List in form of (x,y), where y is monotonicly decreasing.\n",
    "    # 0<=x<=1.   0<y.   List includes (1,0) and (0,1).\n",
    "    # The function is assumed to be piecewise linear.\n",
    "    # max_dist >= xi-x_(i-1)\n",
    "    if seed is not None:\n",
    "        random.seed(seed)\n",
    "    return random_seq(max_dist, 0,1, 0,1)\n",
    "        \n",
    "\n",
    "def random_point(x_min, x_max, y_min, y_max):\n",
    "    return (random.uniform(x_min, x_max), random.uniform(y_min, y_max))\n",
    "\n",
    "def random_seq(max_dist, x_min, x_max, y_min, y_max):\n",
    "    x_mid, y_mid= random_point(x_min, x_max, y_min, y_max)\n",
    "    if x_max-x_min < max_dist:\n",
    "        return [(x_mid, y_mid)]\n",
    "    else:\n",
    "        return random_seq(max_dist, x_min, x_mid, y_mid, y_max) + \\\n",
    "                    [(x_mid, y_mid)] + \\\n",
    "                    random_seq(max_dist, x_mid, x_max, y_min, y_mid)\n",
    "\n",
    "\n",
    "def plot_pairs(pairs):\n",
    "    x,y = zip(*pairs)\n",
    "    plt.plot(x,y)\n",
    "\n",
    "def get_monotoic_vals(shells):\n",
    "    # This function will generate a random sequence with monotonic pairs,\n",
    "    # then sample it to have exactly the number of points requested.  Linear interpolation.\n",
    "    # @param num:  Number of points.   \n",
    "    #\n",
    "    # Note that the last point will always be (1,0)\n",
    "    \n",
    "    # Make sure we have enough points.  \n",
    "\n",
    "    # TODO:   This is a hack\n",
    "    # Can do better to make sure each point is separate.   Not sure it makes a difference.\n",
    "    num = len(shells)\n",
    "    pairs = monotonic_pairs(0.5/num)\n",
    "    \n",
    "    x,y = zip(*pairs)\n",
    "    return np.interp(shells,x,y)\n",
    "\n",
    "def plot_model(model):\n",
    "    plt.plot(model[0], model[1])"
   ]
  },
  {
   "cell_type": "code",
   "execution_count": 3,
   "metadata": {},
   "outputs": [],
   "source": [
    "# Uncomment below lines to see examples:\n",
    "\n",
    "#for _ in range(10):\n",
    "#    plot_pairs(monotonic_pairs(0.01))\n",
    "#    plt.figure()"
   ]
  },
  {
   "cell_type": "markdown",
   "metadata": {},
   "source": [
    "### Normalization code\n",
    "\n",
    "These two functions compute the amount of mass/moment per shell.   Right now, we only support a fixed density.\n",
    "\n",
    "$ mass = 2\\pi\\rho\\int_{r_1}^{r_2}r^2dr = \\dfrac{2}{3}\\pi\\Big[r_2^3-r_1^3\\Big]\\rho$\n",
    "\n",
    "$ moment = \\dfrac{2}{3}MR^2 = \\dfrac{4}{3}\\pi\\rho\\int_{r_1}^{r_2}r^4dr = \\dfrac{4}{15}\\pi\\Big[r_2^5-r_1^5\\Big]\\rho$+\n",
    "\n",
    "Thus, given a series of fixed shells with radius $r_i$, there is a series of fixed coefficients $M_i$ and $I_i$ such that:\n",
    "\n",
    "$ mass = \\vec{M}\\vec{\\rho} $\n",
    "\n",
    "$ moment =  \\vec{I}\\vec{\\rho} $\n",
    "\n",
    "\n",
    "**Note:** I believe the fixed coefficients also hold with linear density (though the general equations to compute the mass/moment might be a bit more involved).\n",
    "\n",
    "The advantage of this method is that if we have two solutions $\\vec{\\rho_1}$ and $\\vec{\\rho_2}$, any linear combination of the two solution will also have the same mass/moment.   This allows us to fix yet another variable (e.g. J2) with binary search."
   ]
  },
  {
   "cell_type": "code",
   "execution_count": 4,
   "metadata": {},
   "outputs": [],
   "source": [
    "def get_mass_coefficient(rad1, rad2, fixed_density=True):\n",
    "    if not fixed_density:\n",
    "        raise NotImplemented(\"Linear density not implmeneted yet.\")\n",
    "    return 2.0/3.0 * np.pi * (np.power(rad2,3.0) - np.power(rad1, 3.0))\n",
    "        \n",
    "        \n",
    "def get_moment_coefficient(rad1, rad2, fixed_density=True):\n",
    "    if not fixed_density:\n",
    "        raise NotImplemented(\"Linear density not implemented yet.\")\n",
    "    return 4.0/15.0 * np.pi * (np.power(rad2,5.0) - np.power(rad1, 5.0))\n",
    "\n",
    "\n",
    "def compute_mass(model, fixed_density=True):\n",
    "    # @param model: This is two arrays, first with outer radii, second with densities\n",
    "    radii, densities = model\n",
    "    outer = radii\n",
    "    inner= np.append([0], radii)\n",
    "    ranges = zip(inner, outer)\n",
    "        \n",
    "    coefficients = [get_mass_coefficient(rad1, rad2, fixed_density) \n",
    "                    for (rad1, rad2) in ranges]\n",
    "        \n",
    "    return np.array(coefficients).dot(densities)\n",
    "\n",
    "def compute_moment(model, fixed_density=True):\n",
    "    # @param model: This is two arrays, first with outer radii, second with densities\n",
    "    radii, densities = model\n",
    "    outer = radii\n",
    "    inner= np.append([0], radii)\n",
    "    ranges = zip(inner, outer)\n",
    "        \n",
    "    coefficients = [get_moment_coefficient(rad1, rad2, fixed_density) \n",
    "                    for (rad1, rad2) in ranges]\n",
    "        \n",
    "    return np.array(coefficients).dot(densities)"
   ]
  },
  {
   "cell_type": "code",
   "execution_count": 5,
   "metadata": {},
   "outputs": [],
   "source": [
    "class MCPlanet(object):\n",
    "    def __init__(self, mass, moment, radius, shells=None, num_shells = 100, fixed_density=True):\n",
    "        # TODO:   Need to think about/ document units.\n",
    "        self._mass = mass\n",
    "        self._moment = moment\n",
    "        self._use_fixed = fixed_density\n",
    "        self._radius = radius\n",
    "    \n",
    "        # Can pass in units as increasing list of radii.\n",
    "        # Shells are the outer radius of the shells.   Assume shell are touching.\n",
    "        # num_shells ignored in this case.\n",
    "        if shells is None:\n",
    "            self._shells = self._create_radii(num_shells)\n",
    "        else:\n",
    "            self._shells = np.array(shells)\n",
    "            \n",
    "        self._num_shells = len(self._shells)\n",
    "    \n",
    "    def _create_radii(self, num_shells):\n",
    "        # For now, just equal radii for each shell.\n",
    "        return (np.array(range(num_shells))+1)/float(num_shells)*self._radius\n",
    "       \n",
    "    def _normalize_mass(self, model_points):\n",
    "        # Assume that our current model is (x,y)\n",
    "        # Where x is the outer radius (first is zero)\n",
    "        # And y is the density.   \n",
    "        #\n",
    "        # We need to normalize so we match the total mass\n",
    "        outer = self._shells\n",
    "        inner= np.append([0], self._shells)\n",
    "        ranges = zip(inner, outer)\n",
    "        \n",
    "        coefficients = [get_mass_coefficient(rad1, rad2, self._use_fixed) \n",
    "                        for (rad1, rad2) in ranges]\n",
    "        \n",
    "        mass = np.array(coefficients).dot(model_points)\n",
    "        return model_points*self._mass/mass\n",
    "    \n",
    "    def _normalize_moment(self, model_points):\n",
    "        # Assume that our current model is (x,y)\n",
    "        # Where x is the outer radius (first is zero)\n",
    "        # And y is the density.   \n",
    "        #\n",
    "        # We need to normalize so we match the total mass\n",
    "        outer = self._shells\n",
    "        inner= np.append([0], self._shells)\n",
    "        ranges = zip(inner, outer)\n",
    "        \n",
    "        coefficients = [get_moment_coefficient(rad1, rad2, self._use_fixed) \n",
    "                        for (rad1, rad2) in ranges]\n",
    "        \n",
    "        moment = np.array(coefficients).dot(model_points)\n",
    "        return model_points*self._moment/moment\n",
    "        \n",
    "        \n",
    "    def create_mass_model(self, seed=None):\n",
    "        # first generate random monotonic-path\n",
    "        model = get_monotoic_vals(self._shells/self._radius)\n",
    "        return self._shells, self._normalize_mass(model)\n",
    "                 \n",
    "        \n",
    "    def create_moment_model(self, seed=None):\n",
    "        # first generate random monotonic-path\n",
    "        model = get_monotoic_vals(self._shells/self._radius)\n",
    "        return self._shells, self._normalize_moment(model)\n",
    "    \n",
    "    \n",
    "    def create_mass_and_moment_model(self, num_samples = 100, seed=None):\n",
    "        # We're going to create a model that matches both mass and moment.\n",
    "        #\n",
    "        # First, we'll genreate a bunch (100 by default) models and \n",
    "        # normalize them so they have the correct mass.\n",
    "        #\n",
    "        # Next, we'll compute the moment for each one and divide them into \n",
    "        # two groups.    \"bigger_moment\" and \"smaller_moment\".\n",
    "        #\n",
    "        # Next, we'll randomly choose one model from each set and find the \n",
    "        # linear interpolation that will give us a the desired moment.   \n",
    "        # This interpolated model should have both the correct mass and moment.\n",
    "        \n",
    "        models = [self.create_mass_model(seed) for _ in range(num_samples)]\n",
    "        moments = [compute_moment(model, self._use_fixed) for model in models]\n",
    "        \n",
    "        print(\"%s models generated\"%num_samples)\n",
    "        print(\"Largest Moment: %s\", max(moments))\n",
    "        print(\"Smallest Moment: %s\", min(moments))\n",
    "        \n",
    "        bigger_moment = list(filter(lambda x: x[0] >= self._moment, zip(moments, models)))\n",
    "        smaller_moment = list(filter(lambda x: x[0] < self._moment, zip(moments, models)))\n",
    "       \n",
    "        print(\"%s bigger moments and %s smaller moments\"%(len(bigger_moment), len(smaller_moment)))\n",
    "        \n",
    "        bigger = random.choice(bigger_moment)\n",
    "        smaller = random.choice(smaller_moment)\n",
    "        alpha = (self._moment-smaller[0])/(bigger[0]-smaller[0])\n",
    "        \n",
    "        return self._shells, alpha*bigger[1][1] + (1.0-alpha)*smaller[1][1]\n",
    "        "
   ]
  },
  {
   "cell_type": "code",
   "execution_count": 6,
   "metadata": {},
   "outputs": [
    {
     "name": "stdout",
     "output_type": "stream",
     "text": [
      "100 models generated\n",
      "Largest Moment: %s 9.555832898695055e+37\n",
      "Smallest Moment: %s 2.2508851485414476e+37\n",
      "28 bigger moments and 72 smaller moments\n",
      "[  64000.  128000.  192000.  256000.  320000.  384000.  448000.  512000.\n",
      "  576000.  640000.  704000.  768000.  832000.  896000.  960000. 1024000.\n",
      " 1088000. 1152000. 1216000. 1280000. 1344000. 1408000. 1472000. 1536000.\n",
      " 1600000. 1664000. 1728000. 1792000. 1856000. 1920000. 1984000. 2048000.\n",
      " 2112000. 2176000. 2240000. 2304000. 2368000. 2432000. 2496000. 2560000.\n",
      " 2624000. 2688000. 2752000. 2816000. 2880000. 2944000. 3008000. 3072000.\n",
      " 3136000. 3200000. 3264000. 3328000. 3392000. 3456000. 3520000. 3584000.\n",
      " 3648000. 3712000. 3776000. 3840000. 3904000. 3968000. 4032000. 4096000.\n",
      " 4160000. 4224000. 4288000. 4352000. 4416000. 4480000. 4544000. 4608000.\n",
      " 4672000. 4736000. 4800000. 4864000. 4928000. 4992000. 5056000. 5120000.\n",
      " 5184000. 5248000. 5312000. 5376000. 5440000. 5504000. 5568000. 5632000.\n",
      " 5696000. 5760000. 5824000. 5888000. 5952000. 6016000. 6080000. 6144000.\n",
      " 6208000. 6272000. 6336000. 6400000.]\n",
      "[27181.24864804 26668.64234802 26406.75897878 26050.7654898\n",
      " 25985.57974781 25765.56330034 25702.18351206 25641.7057735\n",
      " 25583.89275171 25537.2608131  25258.06021058 25085.86430342\n",
      " 24678.29394103 24499.71611374 24138.7680724  24054.32374747\n",
      " 24004.63144286 23993.31384448 23839.63561357 23679.27952348\n",
      " 23392.43318735 23327.89989302 23327.30203838 23260.27461893\n",
      " 23259.5465383  23237.19509138 23072.17130862 22582.57474144\n",
      " 22169.37636479 21998.63282139 21971.08736112 21874.62256897\n",
      " 21874.10748604 21872.1903192  21821.21128639 21770.28048681\n",
      " 21765.96943732 21667.92731765 21634.29514809 21631.77730797\n",
      " 21488.86666259 21455.21756353 19947.37447642 19229.31251403\n",
      " 19206.94499127 19141.24023468 19128.81208023 17935.10579881\n",
      " 17899.01691497 17841.222643   17466.55890572 16327.49143115\n",
      " 16275.7634146  14054.80542805 13676.70983623 13334.3722435\n",
      " 13247.36298056 13219.9566477  13215.73539826 13191.68981547\n",
      " 13167.64460986 13157.95764427 13155.68146191 13155.45410942\n",
      " 13155.35387756 13154.43592524 13152.5677646  13152.46962065\n",
      " 13136.680902   13127.40262718 12995.43300172 12872.36604762\n",
      " 11184.23021352 11181.93342288 11136.0946866   9653.79504316\n",
      "  9534.94909486  9534.20023803  9531.30365221  9519.52390516\n",
      "  9518.90342757  9508.79806927  9503.53452461  9499.05552224\n",
      "  9493.73680954  9490.921679    9489.23875819  9488.9854233\n",
      "  9414.42088358  8727.33581396  6618.1894755   6471.03384425\n",
      "  6382.25710165  6317.75191929  6277.79136956  6213.94795786\n",
      "  6092.01400036  4616.61571116  4426.17390872  3250.78618729]\n"
     ]
    },
    {
     "data": {
      "image/png": "[encoded data removed]",
      "text/plain": [
       "<Figure size 432x288 with 1 Axes>"
      ]
     },
     "metadata": {
      "needs_background": "light"
     },
     "output_type": "display_data"
    }
   ],
   "source": [
    "aa= MCPlanet(mass = 6e24, moment= 8e37, radius = 6.4e6, num_shells=100)\n",
    "model = aa.create_mass_and_moment_model()\n",
    "print(model[0])\n",
    "print(model[1])\n",
    "plot_model(model)"
   ]
  },
  {
   "cell_type": "code",
   "execution_count": 7,
   "metadata": {},
   "outputs": [
    {
     "data": {
      "text/plain": [
       "6.000000000000001e+24"
      ]
     },
     "execution_count": 7,
     "metadata": {},
     "output_type": "execute_result"
    }
   ],
   "source": [
    "compute_mass(model)"
   ]
  },
  {
   "cell_type": "code",
   "execution_count": 8,
   "metadata": {},
   "outputs": [
    {
     "data": {
      "text/plain": [
       "7.999999999999999e+37"
      ]
     },
     "execution_count": 8,
     "metadata": {},
     "output_type": "execute_result"
    }
   ],
   "source": [
    "compute_moment(model)"
   ]
  },
  {
   "cell_type": "code",
   "execution_count": null,
   "metadata": {},
   "outputs": [],
   "source": []
  }
 ],
 "metadata": {
  "kernelspec": {
   "display_name": "Python 3",
   "language": "python",
   "name": "python3"
  },
  "language_info": {
   "codemirror_mode": {
    "name": "ipython",
    "version": 3
   },
   "file_extension": ".py",
   "mimetype": "text/x-python",
   "name": "python",
   "nbconvert_exporter": "python",
   "pygments_lexer": "ipython3",
   "version": "3.7.4"
  }
 },
 "nbformat": 4,
 "nbformat_minor": 2
}
