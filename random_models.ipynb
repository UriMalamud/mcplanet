{
 "cells": [
  {
   "cell_type": "markdown",
   "metadata": {},
   "source": [
    "### Intro\n",
    "\n",
    "This is an ipython notebook that is runnable from the cloud.   Each cell in the notbook can be run seperately by clicking on it and hitting ctrl+enter.   Once a cell is run, all the global variables are saved, so you can run other cells using variable you've already initialized.\n",
    "\n",
    "First thing you should do is run all the cell by either hitting ctrl+enter for each cell or by choosing **Kernel** and **Restart and run all** from the menu above."
   ]
  },
  {
   "cell_type": "code",
   "execution_count": 141,
   "metadata": {},
   "outputs": [],
   "source": [
    "import numpy as np\n",
    "import random\n",
    "import matplotlib.pyplot as plt"
   ]
  },
  {
   "cell_type": "markdown",
   "metadata": {},
   "source": [
    "### Random model code\n",
    "\n",
    "This section contains functions to generate random monotic models."
   ]
  },
  {
   "cell_type": "code",
   "execution_count": 142,
   "metadata": {},
   "outputs": [],
   "source": [
    "def monotonic_pairs(max_dist, seed = None):\n",
    "    # This function will generate a list of pairs\n",
    "    # List in form of (x,y), where y is monotonicly decreasing.\n",
    "    # 0<=x<=1.   0<y.   List includes (1,0) and (0,1).\n",
    "    # The function is assumed to be piecewise linear.\n",
    "    # max_dist >= xi-x_(i-1)\n",
    "    if seed is not None:\n",
    "        random.seed(seed)\n",
    "    return random_seq(max_dist, 0,1, 0,1)\n",
    "        \n",
    "\n",
    "def random_point(x_min, x_max, y_min, y_max):\n",
    "    return (random.uniform(x_min, x_max), random.uniform(y_min, y_max))\n",
    "\n",
    "def random_seq(max_dist, x_min, x_max, y_min, y_max):\n",
    "    x_mid, y_mid= random_point(x_min, x_max, y_min, y_max)\n",
    "    if x_max-x_min < max_dist:\n",
    "        return [(x_mid, y_mid)]\n",
    "    else:\n",
    "        return random_seq(max_dist, x_min, x_mid, y_mid, y_max) + \\\n",
    "                    [(x_mid, y_mid)] + \\\n",
    "                    random_seq(max_dist, x_mid, x_max, y_min, y_mid)\n",
    "\n",
    "\n",
    "def plot_pairs(pairs):\n",
    "    x,y = zip(*pairs)\n",
    "    plt.plot(x,y)\n",
    "\n",
    "def get_monotoic_vals(shells):\n",
    "    # This function will generate a random sequence with monotonic pairs,\n",
    "    # then sample it to have exactly the number of points requested.  Linear interpolation.\n",
    "    # @param num:  Number of points.   \n",
    "    #\n",
    "    # Note that the last point will always be (1,0)\n",
    "    \n",
    "    # Make sure we have enough points.  \n",
    "\n",
    "    # TODO:   This is a hack\n",
    "    # Can do better to make sure each point is separate.   Not sure it makes a difference.\n",
    "    num = len(shells)\n",
    "    pairs = monotonic_pairs(0.5/num)\n",
    "    \n",
    "    x,y = zip(*pairs)\n",
    "    return np.interp(shells,x,y)"
   ]
  },
  {
   "cell_type": "code",
   "execution_count": 144,
   "metadata": {},
   "outputs": [],
   "source": [
    "# Uncomment below lines to see examples:\n",
    "\n",
    "#for _ in range(10):\n",
    "#    plot_pairs(monotonic_pairs(0.01))\n",
    "#    plt.figure()"
   ]
  },
  {
   "cell_type": "markdown",
   "metadata": {},
   "source": [
    "### Normalization code\n",
    "\n",
    "These two functions compute the amount of mass/moment per shell.   Right now, we only support a fixed density.\n",
    "\n",
    "$ mass = 2\\pi\\rho\\int_{r_1}^{r_2}r^2dr = \\dfrac{2}{3}\\pi\\Big[r_2^3-r_1^3\\Big]\\rho$\n",
    "\n",
    "$ moment = \\dfrac{2}{3}MR^2 = \\dfrac{4}{3}\\pi\\rho\\int_{r_1}^{r_2}r^4dr = \\dfrac{4}{15}\\pi\\Big[r_2^5-r_1^5\\Big]\\rho$+\n",
    "\n",
    "Thus, given a series of fixed shells with radius $r_i$, there is a series of fixed coefficients $M_i$ and $I_i$ such that:\n",
    "\n",
    "$ mass = \\vec{M}\\vec{\\rho} $\n",
    "\n",
    "$ moment =  \\vec{I}\\vec{\\rho} $\n",
    "\n",
    "\n",
    "**Note:** I believe the fixed coefficients also hold with linear density (though the general equations to compute the mass/moment might be a bit more involved).\n",
    "\n",
    "The advantage of this method is that if we have two solutions $\\vec{\\rho_1}$ and $\\vec{\\rho_2}$, any linear combination of the two solution will also have the same mass/moment.   This allows us to fix yet another variable (e.g. J2) with binary search."
   ]
  },
  {
   "cell_type": "code",
   "execution_count": 167,
   "metadata": {},
   "outputs": [],
   "source": [
    "def get_mass_coefficient(rad1, rad2, fixed_density=True):\n",
    "    if not fixed_density:\n",
    "        raise NotImplemented(\"Linear density not implmeneted yet.\")\n",
    "    return 2.0/3.0 * np.pi * (np.power(rad2,3.0) - np.power(rad1, 3.0))\n",
    "        \n",
    "        \n",
    "def get_moment_coefficient(rad1, rad2, fixed_density=True):\n",
    "    if not fixed_density:\n",
    "        raise NotImplemented(\"Linear density not implemented yet.\")\n",
    "    return 4.0/15.0 * np.pi * (np.power(rad2,5.0) - np.power(rad1, 5.0))\n",
    "\n",
    "\n",
    "def compute_mass(model, fixed_density=True):\n",
    "    # @param model: This is two arrays, first with outer radii, second with densities\n",
    "    radii, densities = model\n",
    "    outer = radii\n",
    "    inner= np.append([0], radii)\n",
    "    ranges = zip(inner, outer)\n",
    "        \n",
    "    coefficients = [get_mass_coefficient(rad1, rad2, fixed_density) \n",
    "                    for (rad1, rad2) in ranges]\n",
    "        \n",
    "    return np.array(coefficients).dot(densities)\n",
    "\n",
    "def compute_moment(model, fixed_density=True):\n",
    "    # @param model: This is two arrays, first with outer radii, second with densities\n",
    "    radii, densities = model\n",
    "    outer = radii\n",
    "    inner= np.append([0], radii)\n",
    "    ranges = zip(inner, outer)\n",
    "        \n",
    "    coefficients = [get_moment_coefficient(rad1, rad2, fixed_density) \n",
    "                    for (rad1, rad2) in ranges]\n",
    "        \n",
    "    return np.array(coefficients).dot(densities)"
   ]
  },
  {
   "cell_type": "code",
   "execution_count": 168,
   "metadata": {},
   "outputs": [],
   "source": [
    "class McPlanet(object):\n",
    "    def __init__(self, mass, moment, radius, shells=None, num_shells = 100, fixed_density=True):\n",
    "        # TODO:   Need to think about/ document units.\n",
    "        self._mass = mass\n",
    "        self._moment = moment\n",
    "        self._use_fixed = fixed_density\n",
    "        self._radius = radius\n",
    "    \n",
    "        # Can pass in units as increasing list of radii.\n",
    "        # Shells are the outer radius of the shells.   Assume shell are touching.\n",
    "        # num_shells ignored in this case.\n",
    "        if shells is None:\n",
    "            self._shells = self._create_radii(num_shells)\n",
    "        else:\n",
    "            self._shells = np.array(shells)\n",
    "            \n",
    "        self._num_shells = len(self._shells)\n",
    "    \n",
    "    def _create_radii(self, num_shells):\n",
    "        # For now, just equal radii for each shell.\n",
    "        return (np.array(range(num_shells))+1)/float(num_shells)*self._radius\n",
    "       \n",
    "    def _normalize_densities(self, model_points):\n",
    "        # Assume that our current model is (x,y)\n",
    "        # Where x is the outer radius (first is zero)\n",
    "        # And y is the density.   \n",
    "        #\n",
    "        # We need to normalize so we match the total mass\n",
    "        outer = self._shells\n",
    "        inner= np.append([0], self._shells)\n",
    "        ranges = zip(inner, outer)\n",
    "        \n",
    "        coefficients = [get_mass_coefficient(rad1, rad2, self._use_fixed) \n",
    "                        for (rad1, rad2) in ranges]\n",
    "        \n",
    "        mass = np.array(coefficients).dot(model_points)\n",
    "        return model_points*self._mass/mass\n",
    "        \n",
    "        \n",
    "    def create_mass_model(self, seed=None):\n",
    "        # first generate random monotonic-path\n",
    "        model = get_monotoic_vals(self._shells/self._radius)\n",
    "        return self._shells, self._normalize_densities(model)\n",
    "                 \n",
    "        "
   ]
  },
  {
   "cell_type": "code",
   "execution_count": 169,
   "metadata": {},
   "outputs": [
    {
     "name": "stdout",
     "output_type": "stream",
     "text": [
      "(array([  10.,   20.,   30.,   40.,   50.,   60.,   70.,   80.,   90.,\n",
      "        100.,  110.,  120.,  130.,  140.,  150.,  160.,  170.,  180.,\n",
      "        190.,  200.,  210.,  220.,  230.,  240.,  250.,  260.,  270.,\n",
      "        280.,  290.,  300.,  310.,  320.,  330.,  340.,  350.,  360.,\n",
      "        370.,  380.,  390.,  400.,  410.,  420.,  430.,  440.,  450.,\n",
      "        460.,  470.,  480.,  490.,  500.,  510.,  520.,  530.,  540.,\n",
      "        550.,  560.,  570.,  580.,  590.,  600.,  610.,  620.,  630.,\n",
      "        640.,  650.,  660.,  670.,  680.,  690.,  700.,  710.,  720.,\n",
      "        730.,  740.,  750.,  760.,  770.,  780.,  790.,  800.,  810.,\n",
      "        820.,  830.,  840.,  850.,  860.,  870.,  880.,  890.,  900.,\n",
      "        910.,  920.,  930.,  940.,  950.,  960.,  970.,  980.,  990.,\n",
      "       1000.]), array([1.22981186e+00, 1.22978257e+00, 1.22957536e+00, 1.22887671e+00,\n",
      "       1.22882892e+00, 1.22880560e+00, 1.22880462e+00, 1.22879016e+00,\n",
      "       1.22748075e+00, 1.22693336e+00, 1.22296812e+00, 1.22152003e+00,\n",
      "       1.22129641e+00, 1.22113076e+00, 1.22052319e+00, 1.21816280e+00,\n",
      "       1.21791209e+00, 1.21738204e+00, 1.21653965e+00, 1.21643197e+00,\n",
      "       1.21643144e+00, 1.21642632e+00, 1.21623212e+00, 1.21226438e+00,\n",
      "       1.21100907e+00, 1.21010473e+00, 1.20833263e+00, 1.20524866e+00,\n",
      "       1.19991891e+00, 1.17570917e+00, 1.07051342e+00, 1.06417711e+00,\n",
      "       1.06402541e+00, 1.06400280e+00, 1.06090316e+00, 1.05494170e+00,\n",
      "       1.04482088e+00, 1.04464360e+00, 1.04405371e+00, 1.04404895e+00,\n",
      "       1.04404888e+00, 1.04262458e+00, 1.04262453e+00, 1.04262448e+00,\n",
      "       1.04261941e+00, 1.04259147e+00, 1.04257645e+00, 1.04257580e+00,\n",
      "       1.04251992e+00, 1.04251821e+00, 1.04250993e+00, 1.04250726e+00,\n",
      "       1.04249819e+00, 1.04235542e+00, 1.04234408e+00, 1.04093002e+00,\n",
      "       1.04020590e+00, 9.62800660e-01, 9.51308528e-01, 9.51207567e-01,\n",
      "       9.45129511e-01, 7.84738671e-01, 6.13904632e-01, 6.13060500e-01,\n",
      "       6.10404277e-01, 6.09768959e-01, 6.09768287e-01, 6.05659987e-01,\n",
      "       6.05584555e-01, 6.05130530e-01, 6.01971649e-01, 6.01971455e-01,\n",
      "       6.01971450e-01, 6.01971448e-01, 5.97162174e-01, 5.86205885e-01,\n",
      "       5.79015613e-01, 5.23725375e-01, 4.96175401e-01, 3.89031681e-01,\n",
      "       3.84372616e-01, 3.78658242e-01, 3.28520455e-01, 3.16167690e-01,\n",
      "       3.11224204e-01, 3.09486412e-01, 1.77880459e-01, 1.70867095e-01,\n",
      "       1.70854545e-01, 1.63683289e-01, 1.63599295e-01, 7.02203123e-02,\n",
      "       6.46752227e-02, 5.84523067e-02, 5.65019891e-02, 5.50289945e-02,\n",
      "       5.08908852e-02, 4.44386123e-02, 3.86432605e-02, 2.09299455e-04]))\n"
     ]
    }
   ],
   "source": [
    "aa= McPlanet(mass = 1000000000, moment= 10, radius =1000, num_shells=100)\n",
    "model = aa.create_mass_model()\n",
    "print(model)"
   ]
  },
  {
   "cell_type": "code",
   "execution_count": 170,
   "metadata": {},
   "outputs": [
    {
     "data": {
      "text/plain": [
       "1000000000.0"
      ]
     },
     "execution_count": 170,
     "metadata": {},
     "output_type": "execute_result"
    }
   ],
   "source": [
    "compute_mass(model)"
   ]
  },
  {
   "cell_type": "code",
   "execution_count": 171,
   "metadata": {},
   "outputs": [
    {
     "data": {
      "text/plain": [
       "266148235226334.62"
      ]
     },
     "execution_count": 171,
     "metadata": {},
     "output_type": "execute_result"
    }
   ],
   "source": [
    "compute_moment(model)"
   ]
  },
  {
   "cell_type": "code",
   "execution_count": null,
   "metadata": {},
   "outputs": [],
   "source": []
  }
 ],
 "metadata": {
  "kernelspec": {
   "display_name": "Python 3",
   "language": "python",
   "name": "python3"
  },
  "language_info": {
   "codemirror_mode": {
    "name": "ipython",
    "version": 3
   },
   "file_extension": ".py",
   "mimetype": "text/x-python",
   "name": "python",
   "nbconvert_exporter": "python",
   "pygments_lexer": "ipython3",
   "version": "3.7.4"
  }
 },
 "nbformat": 4,
 "nbformat_minor": 2
}
