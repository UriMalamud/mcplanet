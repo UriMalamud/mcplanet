{
 "cells": [
  {
   "cell_type": "code",
   "execution_count": 1,
   "metadata": {},
   "outputs": [],
   "source": [
    "import numpy as np\n",
    "import random\n",
    "import matplotlib.pyplot as plt"
   ]
  },
  {
   "cell_type": "markdown",
   "metadata": {},
   "source": [
    "### Random model code\n",
    "\n",
    "This section contains functions to generate random monotic models."
   ]
  },
  {
   "cell_type": "code",
   "execution_count": 114,
   "metadata": {},
   "outputs": [],
   "source": [
    "def monotonic_pairs(max_dist, seed = None):\n",
    "    # This function will generate a list of pairs\n",
    "    # List in form of (x,y), where y is monotonicly decreasing.\n",
    "    # 0<=x<=1.   0<y.   List includes (1,0) and (0,1).\n",
    "    # The function is assumed to be piecewise linear.\n",
    "    # max_dist >= xi-x_(i-1)\n",
    "    if seed is not None:\n",
    "        random.seed(seed)\n",
    "    return random_seq(max_dist, 0,1, 0,1)\n",
    "        \n",
    "\n",
    "def random_point(x_min, x_max, y_min, y_max):\n",
    "    return (random.uniform(x_min, x_max), random.uniform(y_min, y_max))\n",
    "\n",
    "def random_seq(max_dist, x_min, x_max, y_min, y_max):\n",
    "    x_mid, y_mid= random_point(x_min, x_max, y_min, y_max)\n",
    "    if x_max-x_min < max_dist:\n",
    "        return [(x_mid, y_mid)]\n",
    "    else:\n",
    "        return random_seq(max_dist, x_min, x_mid, y_mid, y_max) + \\\n",
    "                    [(x_mid, y_mid)] + \\\n",
    "                    random_seq(max_dist, x_mid, x_max, y_min, y_mid)\n",
    "\n",
    "\n",
    "def plot_pairs(pairs):\n",
    "    x,y = zip(*pairs)\n",
    "    plt.plot(x,y)\n",
    "\n",
    "def get_monotoic_vals(shells):\n",
    "    # This function will generate a random sequence with monotonic pairs,\n",
    "    # then sample it to have exactly the number of points requested.  Linear interpolation.\n",
    "    # @param num:  Number of points.   \n",
    "    #\n",
    "    # Note that the last point will always be (1,0)\n",
    "    \n",
    "    # Make sure we have enough points.  \n",
    "\n",
    "    # TODO:   This is a hack\n",
    "    # Can do better to make sure each point is separate.   Not sure it makes a difference.\n",
    "    num = len(shells)\n",
    "    pairs = monotonic_pairs(0.5/num)\n",
    "    \n",
    "    x,y = zip(*pairs)\n",
    "    return np.interp(shells,x,y)"
   ]
  },
  {
   "cell_type": "code",
   "execution_count": 115,
   "metadata": {},
   "outputs": [],
   "source": [
    "# Uncomment below lines to see examples:\n",
    "\n",
    "#for _ in range(10):\n",
    "#    plot_pairs(get_monotoic_pairs(100))\n",
    "#    plt.figure()"
   ]
  },
  {
   "cell_type": "markdown",
   "metadata": {},
   "source": [
    "### Normalization code\n",
    "\n",
    "These two functions compute the amount of mass/moment per shell.   Right now, we only support a fixed density.\n",
    "\n",
    "$ mass = 2\\pi\\rho\\int_{r_1}^{r_2}r^2dr = \\dfrac{2}{3}\\pi\\Big[r_2^3-r_1^3\\Big]\\rho$\n",
    "\n",
    "$ moment = \\dfrac{2}{3}MR^2 = \\dfrac{4}{3}\\pi\\rho\\int_{r_1}^{r_2}r^4dr = \\dfrac{4}{15}\\pi\\Big[r_2^5-r_1^5\\Big]\\rho$+\n",
    "\n",
    "Thus, given a series of fixed shells with radius $r_i$, there is a series of fixed coefficients $M_i$ and $I_i$ such that:\n",
    "\n",
    "$ mass = \\vec{M}\\vec{\\rho} $\n",
    "\n",
    "$ moment =  \\vec{I}\\vec{\\rho} $\n",
    "\n",
    "\n",
    "**Note:** I believe the fixed coefficients also hold with linear density (though the general equations to compute the mass/moment might be a bit more involved).\n",
    "\n",
    "The advantage of this method is that if we have two solutions $\\vec{\\rho_1}$ and $\\vec{\\rho_2}$, any linear combination of the two solution will also have the same mass/moment.   This allows us to fix yet another variable (e.g. J2) with binary search."
   ]
  },
  {
   "cell_type": "code",
   "execution_count": 116,
   "metadata": {},
   "outputs": [],
   "source": [
    "def get_mass_coefficient(rad1, rad2, fixed_density=True):\n",
    "    if not fixed_density:\n",
    "        raise NotImplemented(\"Linear density not implmeneted yet.\")\n",
    "    return 2.0/3.0 * np.pi * (np.power(rad2,3.0) - np.power(rad1, 3.0))\n",
    "        \n",
    "        \n",
    "def get_moment_coefficient(rad1, rad2, fixed_density=True):\n",
    "    if not fixed_density:\n",
    "        raise NotImplemented(\"Linear density not implemented yet.\")\n",
    "    return 4.0/15.0 * np.pi * (np.power(rad2,5.0) - np.power(rad1, 5.0))"
   ]
  },
  {
   "cell_type": "code",
   "execution_count": 133,
   "metadata": {},
   "outputs": [],
   "source": [
    "class McPlanet(object):\n",
    "    def __init__(self, mass, moment, radius, shells=None, num_shells = 100, fixed_density=True):\n",
    "        # TODO:   Need to think about/ document units.\n",
    "        self._mass = mass\n",
    "        self._moment = moment\n",
    "        self._use_fixed = fixed_density\n",
    "        self._radius = radius\n",
    "    \n",
    "        # Can pass in units as increasing list of radii.\n",
    "        # Shells are the outer radius of the shells.   Assume shell are touching.\n",
    "        # num_shells ignored in this case.\n",
    "        if shells is None:\n",
    "            self._shells = self._create_radii(num_shells)\n",
    "        else:\n",
    "            self._shells = np.array(shells)\n",
    "            \n",
    "        self._num_shells = len(self._shells)\n",
    "    \n",
    "    def _create_radii(self, num_shells):\n",
    "        # For now, just equal radii for each shell.\n",
    "        return (np.array(range(num_shells))+1)/float(num_shells)*self._radius\n",
    "       \n",
    "    def _normalize_densities(self, model_points):\n",
    "        # Assume that our current model is (x,y)\n",
    "        # Where x is the outer radius (first is zero)\n",
    "        # And y is the density.   \n",
    "        #\n",
    "        # We need to normalize so we match the total mass\n",
    "        outer = self._shells\n",
    "        inner= np.append([0], self._shells)\n",
    "        ranges = zip(inner, outer)\n",
    "        \n",
    "        coefficients = [get_mass_coefficient(rad1, rad2, self._use_fixed) \n",
    "                        for (rad1, rad2) in ranges]\n",
    "        \n",
    "        mass = np.array(coefficients).dot(model_points)\n",
    "        return model_points*self._mass/mass\n",
    "        \n",
    "        \n",
    "    def create_mass_model(self, seed=None):\n",
    "        # first generate random monotonic-path\n",
    "        model = get_monotoic_vals(self._shells/self._radius)\n",
    "        return self._shells, self._normalize_densities(model)\n",
    "                 \n",
    "        \n",
    "                        \n",
    "        "
   ]
  },
  {
   "cell_type": "code",
   "execution_count": 140,
   "metadata": {},
   "outputs": [
    {
     "data": {
      "text/plain": [
       "(array([  10.,   20.,   30.,   40.,   50.,   60.,   70.,   80.,   90.,\n",
       "         100.,  110.,  120.,  130.,  140.,  150.,  160.,  170.,  180.,\n",
       "         190.,  200.,  210.,  220.,  230.,  240.,  250.,  260.,  270.,\n",
       "         280.,  290.,  300.,  310.,  320.,  330.,  340.,  350.,  360.,\n",
       "         370.,  380.,  390.,  400.,  410.,  420.,  430.,  440.,  450.,\n",
       "         460.,  470.,  480.,  490.,  500.,  510.,  520.,  530.,  540.,\n",
       "         550.,  560.,  570.,  580.,  590.,  600.,  610.,  620.,  630.,\n",
       "         640.,  650.,  660.,  670.,  680.,  690.,  700.,  710.,  720.,\n",
       "         730.,  740.,  750.,  760.,  770.,  780.,  790.,  800.,  810.,\n",
       "         820.,  830.,  840.,  850.,  860.,  870.,  880.,  890.,  900.,\n",
       "         910.,  920.,  930.,  940.,  950.,  960.,  970.,  980.,  990.,\n",
       "        1000.]),\n",
       " array([3.86864412, 3.672176  , 3.52837309, 3.27275657, 3.08054969,\n",
       "        3.06283055, 2.7578282 , 2.68387429, 2.51474407, 2.48296831,\n",
       "        2.41488263, 2.41482994, 2.41474361, 2.41449793, 2.41443132,\n",
       "        2.41382664, 2.41354552, 2.40436864, 2.39065013, 2.38588048,\n",
       "        2.38173912, 2.37784795, 2.35788782, 2.32314744, 2.20178158,\n",
       "        1.96106397, 1.9592136 , 1.95399551, 1.95118211, 1.94841773,\n",
       "        1.94667925, 1.94289243, 1.93240065, 1.9042082 , 1.85914351,\n",
       "        1.85371218, 1.78890199, 1.7844072 , 1.77261968, 1.68883896,\n",
       "        1.65204724, 1.58925242, 1.56133467, 1.38635473, 1.38626164,\n",
       "        1.38624175, 1.38624155, 0.74101322, 0.62044428, 0.60725656,\n",
       "        0.60723652, 0.60722925, 0.60721594, 0.595524  , 0.53999163,\n",
       "        0.53949276, 0.52430965, 0.47273884, 0.43939891, 0.38951203,\n",
       "        0.38951203, 0.38951191, 0.38951163, 0.38951159, 0.38951067,\n",
       "        0.38950951, 0.38913388, 0.38909003, 0.38905958, 0.38898997,\n",
       "        0.38893243, 0.38879906, 0.38741225, 0.38568332, 0.38567678,\n",
       "        0.37983887, 0.37833507, 0.37833477, 0.37729357, 0.37562495,\n",
       "        0.3755892 , 0.3733505 , 0.37239121, 0.36856147, 0.36127138,\n",
       "        0.36125158, 0.36067266, 0.36065994, 0.36061432, 0.35616736,\n",
       "        0.33845329, 0.28019402, 0.14601753, 0.1283218 , 0.12308281,\n",
       "        0.12221495, 0.08083462, 0.07418114, 0.07339238, 0.04052518]))"
      ]
     },
     "execution_count": 140,
     "metadata": {},
     "output_type": "execute_result"
    }
   ],
   "source": [
    "aa= McPlanet(1000000000, 10, 1000)\n",
    "aa.create_mass_model()"
   ]
  },
  {
   "cell_type": "code",
   "execution_count": null,
   "metadata": {},
   "outputs": [],
   "source": []
  },
  {
   "cell_type": "code",
   "execution_count": null,
   "metadata": {},
   "outputs": [],
   "source": []
  }
 ],
 "metadata": {
  "kernelspec": {
   "display_name": "Python 3",
   "language": "python",
   "name": "python3"
  },
  "language_info": {
   "codemirror_mode": {
    "name": "ipython",
    "version": 3
   },
   "file_extension": ".py",
   "mimetype": "text/x-python",
   "name": "python",
   "nbconvert_exporter": "python",
   "pygments_lexer": "ipython3",
   "version": "3.7.4"
  }
 },
 "nbformat": 4,
 "nbformat_minor": 2
}
